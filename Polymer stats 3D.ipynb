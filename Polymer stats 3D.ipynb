{
 "cells": [
  {
   "cell_type": "markdown",
   "metadata": {},
   "source": [
    "** Polymer stats iPython notebook**\n",
    "\n",
    "Supplementary material for the IB Materials lectures on rubber elasticity and entropic forces.\n",
    "\n",
    "Original version from A Kabla (2016). Extended to 3D by Hannan Saddiq, IB student (2018).\n",
    "\n",
    "_______"
   ]
  },
  {
   "cell_type": "markdown",
   "metadata": {},
   "source": [
    "This notebook provides a simple code to generate random polymer configurations in 3D and build the statistics of the end-to-end distance that is required for the calculation of the configurational entropy. Requires installation of the web plotting library plotly."
   ]
  },
  {
   "cell_type": "code",
   "execution_count": 34,
   "metadata": {},
   "outputs": [],
   "source": [
    "# Load relevant modules\n",
    "\n",
    "import plotly.plotly as py\n",
    "import plotly.graph_objs as go\n",
    "from plotly import tools\n",
    "\n",
    "import numpy as np"
   ]
  },
  {
   "cell_type": "markdown",
   "metadata": {},
   "source": [
    "The function get_polymer_shape($n_m$,$a_m$) generates a random configuration for a polymer of $n_m$ monomers, each of length $a_m$. It returns an array of $x_i$ and $y_i$ coordinates for each monomer of the chain, with $x_0=y_0=0$."
   ]
  },
  {
   "cell_type": "code",
   "execution_count": 4,
   "metadata": {},
   "outputs": [],
   "source": [
    "def get_polymer_shape(nm, am):\n",
    "    thetas = (np.pi) * np.random.rand(nm)\n",
    "    phis = (2*np.pi) * np.random.rand(nm)\n",
    "    dx = am * np.sin(thetas) * np.cos(phis)\n",
    "    dy = am * np.sin(thetas) * np.sin(phis)\n",
    "    dz = am * np.cos(thetas)\n",
    "    \n",
    "    x = np.add.accumulate(dx)\n",
    "    y = np.add.accumulate(dy)\n",
    "    z = np.add.accumulate(dz)\n",
    "    return((x,y,z))\n"
   ]
  },
  {
   "cell_type": "markdown",
   "metadata": {},
   "source": [
    "The cell below simply calculates and displays individual polymer configurations."
   ]
  },
  {
   "cell_type": "code",
   "execution_count": 11,
   "metadata": {},
   "outputs": [
    {
     "data": {
      "text/html": [
       "<iframe id=\"igraph\" scrolling=\"no\" style=\"border:none;\" seamless=\"seamless\" src=\"https://plot.ly/~HSaddiq/137.embed\" height=\"700px\" width=\"800px\"></iframe>"
      ],
      "text/plain": [
       "<plotly.tools.PlotlyDisplay object>"
      ]
     },
     "execution_count": 11,
     "metadata": {},
     "output_type": "execute_result"
    }
   ],
   "source": [
    "number_of_monomers = 100\n",
    "monomer_length = 1.\n",
    "\n",
    "(x,y,z)=get_polymer_shape(number_of_monomers, monomer_length)\n",
    "\n",
    "trace = go.Scatter3d(\n",
    "    x=x, y=y, z=z,\n",
    "    marker=dict(\n",
    "        size=4,\n",
    "        color=(x**2 + y**2 + z**2)**0.5,\n",
    "        colorscale='Viridis',\n",
    "    ),\n",
    "    line=dict(\n",
    "        color='#1f77b4',\n",
    "        width=1\n",
    "    )\n",
    ")\n",
    "\n",
    "data = [trace]\n",
    "\n",
    "layout = dict(\n",
    "    width=800,\n",
    "    height=700,\n",
    "    autosize=False,\n",
    "    title='3D Polymer Configuration',\n",
    "    scene=dict(\n",
    "        xaxis=dict(\n",
    "            gridcolor='rgb(255, 255, 255)',\n",
    "            zerolinecolor='rgb(255, 255, 255)',\n",
    "            showbackground=True,\n",
    "            backgroundcolor='rgb(230, 230,230)'\n",
    "        ),\n",
    "        yaxis=dict(\n",
    "            gridcolor='rgb(255, 255, 255)',\n",
    "            zerolinecolor='rgb(255, 255, 255)',\n",
    "            showbackground=True,\n",
    "            backgroundcolor='rgb(230, 230,230)'\n",
    "        ),\n",
    "        zaxis=dict(\n",
    "            gridcolor='rgb(255, 255, 255)',\n",
    "            zerolinecolor='rgb(255, 255, 255)',\n",
    "            showbackground=True,\n",
    "            backgroundcolor='rgb(230, 230,230)'\n",
    "        ),\n",
    "        camera=dict(\n",
    "            up=dict(\n",
    "                x=0,\n",
    "                y=0,\n",
    "                z=1\n",
    "            ),\n",
    "            eye=dict(\n",
    "                x=-1.7428,\n",
    "                y=1.0707,\n",
    "                z=0.7100,\n",
    "            )\n",
    "        ),\n",
    "        aspectratio = dict( x=1, y=1, z=0.7 ),\n",
    "        aspectmode = 'manual'\n",
    "    ),\n",
    ")\n",
    "\n",
    "fig = dict(data=data, layout=layout)\n",
    "\n",
    "py.iplot(fig, filename='3D-polymer-configuration', height=700)\n"
   ]
  },
  {
   "cell_type": "markdown",
   "metadata": {},
   "source": [
    "The function ensemble_stat calculates $n$ different polymer configurations of identical number of monomers $n_m$ and monomer length $a_m$, and returns 3 arrays containing the $x$ and $y$ coordinates of the end-to-end vectors, as well as the total length, of each configuration."
   ]
  },
  {
   "cell_type": "code",
   "execution_count": 18,
   "metadata": {},
   "outputs": [],
   "source": [
    "def ensemble_stat(n, nm, am):\n",
    "    xa=np.zeros(n)\n",
    "    ya=np.zeros(n)\n",
    "    za=np.zeros(n)\n",
    "    ra=np.zeros(n)\n",
    "    for i in range(n):\n",
    "        (x,y,z)=get_polymer_shape(nm, am)\n",
    "        (xa[i],ya[i],za[i])=(x[-1],y[-1],z[-1])\n",
    "        ra[i]=np.sqrt(xa[i]**2+ya[i]**2+za[i]**2)\n",
    "    return(xa,ya,za,ra)\n"
   ]
  },
  {
   "cell_type": "code",
   "execution_count": 29,
   "metadata": {},
   "outputs": [
    {
     "data": {
      "text/html": [
       "<iframe id=\"igraph\" scrolling=\"no\" style=\"border:none;\" seamless=\"seamless\" src=\"https://plot.ly/~HSaddiq/141.embed\" height=\"525px\" width=\"100%\"></iframe>"
      ],
      "text/plain": [
       "<plotly.tools.PlotlyDisplay object>"
      ]
     },
     "execution_count": 29,
     "metadata": {},
     "output_type": "execute_result"
    }
   ],
   "source": [
    "# number of polymer configurations\n",
    "n = 5000\n",
    "\n",
    "(xa,ya,za,ra) = ensemble_stat(n, number_of_monomers, monomer_length)\n",
    "\n",
    "trace = go.Scatter3d(\n",
    "    x=xa,\n",
    "    y=ya,\n",
    "    z=za,\n",
    "    mode='markers',\n",
    "    marker=dict(\n",
    "        size=5,\n",
    "        color=ra,                # set color to an array/list of desired values\n",
    "        colorscale='Viridis',   # choose a colorscale\n",
    "        opacity=0.8\n",
    "    )\n",
    ")\n",
    "\n",
    "data = [trace]\n",
    "layout = go.Layout(\n",
    "    margin=dict(\n",
    "        l=0,\n",
    "        r=0,\n",
    "        b=0,\n",
    "        t=0\n",
    "    ),\n",
    "    scene = dict(\n",
    "        aspectmode = \"cube\"\n",
    "    )\n",
    ")\n",
    "fig = go.Figure(data=data, layout=layout)\n",
    "\n",
    "py.iplot(fig, filename='end_to_end_distance')"
   ]
  },
  {
   "cell_type": "code",
   "execution_count": 36,
   "metadata": {},
   "outputs": [
    {
     "name": "stdout",
     "output_type": "stream",
     "text": [
      "This is the format of your plot grid:\n",
      "[ (1,1) x1,y1 ]  [ (1,2) x2,y2 ]\n",
      "[ (2,1) x3,y3 ]  [ (2,2) x4,y4 ]\n",
      "\n"
     ]
    },
    {
     "data": {
      "text/html": [
       "<iframe id=\"igraph\" scrolling=\"no\" style=\"border:none;\" seamless=\"seamless\" src=\"https://plot.ly/~HSaddiq/143.embed\" height=\"525px\" width=\"100%\"></iframe>"
      ],
      "text/plain": [
       "<plotly.tools.PlotlyDisplay object>"
      ]
     },
     "execution_count": 36,
     "metadata": {},
     "output_type": "execute_result"
    }
   ],
   "source": [
    "x = go.Histogram(\n",
    "    x=xa,\n",
    "    nbinsx = int(np.sqrt(n)),\n",
    "    name = \"Histogram of x\"\n",
    "  )\n",
    "y = go.Histogram(\n",
    "    x=ya,\n",
    "    nbinsx = int(np.sqrt(n)), \n",
    "        name = \"Histogram of y\"\n",
    "  )\n",
    "z = go.Histogram(\n",
    "    x=za,\n",
    "    nbinsx = int(np.sqrt(n)),\n",
    "        name = \"Histogram of z\"\n",
    "  )\n",
    "r = go.Histogram(\n",
    "    x=ra,\n",
    "    nbinsx = int(np.sqrt(n)), \n",
    "        name = \"Histogram of end to end distance\"\n",
    "  )\n",
    "\n",
    "  \n",
    "fig = tools.make_subplots(rows=2, cols=2)\n",
    "fig.append_trace(x, 1, 1)\n",
    "fig.append_trace(y, 1, 2)\n",
    "fig.append_trace(z, 2, 1)\n",
    "fig.append_trace(r, 2, 2)\n",
    "\n",
    "py.iplot(fig, filename='xyz polymer histograms')"
   ]
  },
  {
   "cell_type": "code",
   "execution_count": 40,
   "metadata": {},
   "outputs": [
    {
     "name": "stdout",
     "output_type": "stream",
     "text": [
      "<r>/sqrt(n)r = 0.9223818920340726\n"
     ]
    },
    {
     "data": {
      "text/html": [
       "<iframe id=\"igraph\" scrolling=\"no\" style=\"border:none;\" seamless=\"seamless\" src=\"https://plot.ly/~HSaddiq/145.embed\" height=\"525px\" width=\"100%\"></iframe>"
      ],
      "text/plain": [
       "<plotly.tools.PlotlyDisplay object>"
      ]
     },
     "execution_count": 40,
     "metadata": {},
     "output_type": "execute_result"
    }
   ],
   "source": [
    "nm_list = [10,20,50,100,200,500,1000]\n",
    "am_list = [1,2,5]\n",
    "nval = len(nm_list)*len(am_list)\n",
    "\n",
    "r = []\n",
    "sqrtna = []\n",
    "\n",
    "for n_m in nm_list:\n",
    "    for a_m in am_list:\n",
    "        (xa,ya,za,ra) = ensemble_stat(n, n_m, a_m)\n",
    "        r.append(np.mean(ra))\n",
    "        sqrtna.append(np.sqrt(n_m)*a_m)\n",
    "\n",
    "# Add linear regression to the plot    \n",
    "    \n",
    "from scipy import stats\n",
    "slope, intercept, r_value, p_value, std_err = stats.linregress(sqrtna,r)\n",
    "\n",
    "print(\"<r>/sqrt(n)r = \" + str(slope))\n",
    "\n",
    "trace1 = go.Scatter(\n",
    "    x = sqrtna,\n",
    "    y = r,\n",
    "    mode = 'markers'\n",
    ")\n",
    "\n",
    "trace2 = go.Scatter(\n",
    "    x = [0,max(sqrtna)],\n",
    "    y = [0, slope * max(sqrtna)],\n",
    "    mode = 'lines'\n",
    ")\n",
    "\n",
    "data = [trace1,trace2]\n",
    "\n",
    "layout = dict(\n",
    "    showlegend=False,\n",
    "    xaxis = dict(\n",
    "        title=\"$ \\sqrt{n} a$\"\n",
    "    ),\n",
    "        yaxis = dict(\n",
    "        title=\"$ r_g = \\sqrt{< r^2 >}$\"\n",
    "    )\n",
    ")\n",
    "\n",
    "fig = go.Figure(data=data, layout=layout)\n",
    "py.iplot(fig, filename='polymer linear regression')"
   ]
  }
 ],
 "metadata": {
  "kernelspec": {
   "display_name": "Python 3",
   "language": "python",
   "name": "python3"
  },
  "language_info": {
   "codemirror_mode": {
    "name": "ipython",
    "version": 3
   },
   "file_extension": ".py",
   "mimetype": "text/x-python",
   "name": "python",
   "nbconvert_exporter": "python",
   "pygments_lexer": "ipython3",
   "version": "3.6.6"
  }
 },
 "nbformat": 4,
 "nbformat_minor": 1
}
